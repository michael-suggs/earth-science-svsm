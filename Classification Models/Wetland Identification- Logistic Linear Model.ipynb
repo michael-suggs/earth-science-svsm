{
 "cells": [
  {
   "cell_type": "code",
   "execution_count": 1,
   "id": "cdb2cf9a",
   "metadata": {},
   "outputs": [],
   "source": [
    "import numpy as np\n",
    "import pandas as pd\n",
    "import seaborn as sns\n",
    "import statsmodels.api as sm\n",
    "import matplotlib.pyplot as plt\n",
    "import statsmodels.formula.api as smf\n",
    "from sklearn.metrics import accuracy_score\n",
    "from sklearn.model_selection import train_test_split\n",
    "from IPython.core.interactiveshell import InteractiveShell\n",
    "InteractiveShell.ast_node_interactivity = \"all\""
   ]
  },
  {
   "cell_type": "code",
   "execution_count": 2,
   "id": "6b1ea4db",
   "metadata": {},
   "outputs": [
    {
     "data": {
      "text/html": [
       "<div>\n",
       "<style scoped>\n",
       "    .dataframe tbody tr th:only-of-type {\n",
       "        vertical-align: middle;\n",
       "    }\n",
       "\n",
       "    .dataframe tbody tr th {\n",
       "        vertical-align: top;\n",
       "    }\n",
       "\n",
       "    .dataframe thead th {\n",
       "        text-align: right;\n",
       "    }\n",
       "</style>\n",
       "<table border=\"1\" class=\"dataframe\">\n",
       "  <thead>\n",
       "    <tr style=\"text-align: right;\">\n",
       "      <th></th>\n",
       "      <th>qu_dem_MIN</th>\n",
       "      <th>qu_dem_MAX</th>\n",
       "      <th>qu_dem_RANGE</th>\n",
       "      <th>qu_dem_MEAN</th>\n",
       "      <th>qu_dem_STD</th>\n",
       "      <th>qu_dem_SUM</th>\n",
       "      <th>qu_dsm_MIN</th>\n",
       "      <th>qu_dsm_MAX</th>\n",
       "      <th>qu_dsm_RANGE</th>\n",
       "      <th>qu_dsm_MEAN</th>\n",
       "      <th>...</th>\n",
       "      <th>qu_curpl_SUM</th>\n",
       "      <th>qu_curpr_MIN</th>\n",
       "      <th>qu_curpr_MAX</th>\n",
       "      <th>qu_curpr_RANGE</th>\n",
       "      <th>qu_curpr_MEAN</th>\n",
       "      <th>qu_curpr_STD</th>\n",
       "      <th>qu_curpr_SUM</th>\n",
       "      <th>wetland_type</th>\n",
       "      <th>FID_RiverRd_AOI</th>\n",
       "      <th>wetland</th>\n",
       "    </tr>\n",
       "    <tr>\n",
       "      <th>GRID_ID</th>\n",
       "      <th></th>\n",
       "      <th></th>\n",
       "      <th></th>\n",
       "      <th></th>\n",
       "      <th></th>\n",
       "      <th></th>\n",
       "      <th></th>\n",
       "      <th></th>\n",
       "      <th></th>\n",
       "      <th></th>\n",
       "      <th></th>\n",
       "      <th></th>\n",
       "      <th></th>\n",
       "      <th></th>\n",
       "      <th></th>\n",
       "      <th></th>\n",
       "      <th></th>\n",
       "      <th></th>\n",
       "      <th></th>\n",
       "      <th></th>\n",
       "      <th></th>\n",
       "    </tr>\n",
       "  </thead>\n",
       "  <tbody>\n",
       "    <tr>\n",
       "      <th>AA-10</th>\n",
       "      <td>0.691847</td>\n",
       "      <td>1.731059</td>\n",
       "      <td>1.039212</td>\n",
       "      <td>1.117221</td>\n",
       "      <td>0.202755</td>\n",
       "      <td>313.939159</td>\n",
       "      <td>0.731374</td>\n",
       "      <td>6.256660</td>\n",
       "      <td>5.525286</td>\n",
       "      <td>2.557360</td>\n",
       "      <td>...</td>\n",
       "      <td>1688.477507</td>\n",
       "      <td>-561.943237</td>\n",
       "      <td>585.859314</td>\n",
       "      <td>1147.802551</td>\n",
       "      <td>-6.984654</td>\n",
       "      <td>173.043352</td>\n",
       "      <td>-1941.733846</td>\n",
       "      <td>nonwetland</td>\n",
       "      <td>0</td>\n",
       "      <td>nonwetland</td>\n",
       "    </tr>\n",
       "    <tr>\n",
       "      <th>AA-11</th>\n",
       "      <td>0.641888</td>\n",
       "      <td>1.487661</td>\n",
       "      <td>0.845773</td>\n",
       "      <td>1.059745</td>\n",
       "      <td>0.147762</td>\n",
       "      <td>295.668776</td>\n",
       "      <td>0.661373</td>\n",
       "      <td>6.679267</td>\n",
       "      <td>6.017894</td>\n",
       "      <td>2.126747</td>\n",
       "      <td>...</td>\n",
       "      <td>-1129.404510</td>\n",
       "      <td>-841.298767</td>\n",
       "      <td>679.957519</td>\n",
       "      <td>1521.256287</td>\n",
       "      <td>0.069758</td>\n",
       "      <td>168.483844</td>\n",
       "      <td>19.392675</td>\n",
       "      <td>nonwetland</td>\n",
       "      <td>0</td>\n",
       "      <td>nonwetland</td>\n",
       "    </tr>\n",
       "    <tr>\n",
       "      <th>AA-12</th>\n",
       "      <td>0.770032</td>\n",
       "      <td>1.507396</td>\n",
       "      <td>0.737363</td>\n",
       "      <td>1.176038</td>\n",
       "      <td>0.160304</td>\n",
       "      <td>329.290651</td>\n",
       "      <td>0.770032</td>\n",
       "      <td>5.681332</td>\n",
       "      <td>4.911300</td>\n",
       "      <td>1.700724</td>\n",
       "      <td>...</td>\n",
       "      <td>-994.710507</td>\n",
       "      <td>-614.981445</td>\n",
       "      <td>614.381775</td>\n",
       "      <td>1229.363220</td>\n",
       "      <td>-9.649778</td>\n",
       "      <td>201.707961</td>\n",
       "      <td>-2692.288038</td>\n",
       "      <td>nonwetland</td>\n",
       "      <td>0</td>\n",
       "      <td>nonwetland</td>\n",
       "    </tr>\n",
       "    <tr>\n",
       "      <th>AA-13</th>\n",
       "      <td>0.761148</td>\n",
       "      <td>1.413489</td>\n",
       "      <td>0.652341</td>\n",
       "      <td>1.131694</td>\n",
       "      <td>0.115760</td>\n",
       "      <td>316.874198</td>\n",
       "      <td>0.761148</td>\n",
       "      <td>1.462370</td>\n",
       "      <td>0.701221</td>\n",
       "      <td>1.130406</td>\n",
       "      <td>...</td>\n",
       "      <td>-2264.176594</td>\n",
       "      <td>-577.830017</td>\n",
       "      <td>633.895386</td>\n",
       "      <td>1211.725403</td>\n",
       "      <td>-1.244892</td>\n",
       "      <td>180.105412</td>\n",
       "      <td>-347.324849</td>\n",
       "      <td>nonwetland</td>\n",
       "      <td>0</td>\n",
       "      <td>nonwetland</td>\n",
       "    </tr>\n",
       "    <tr>\n",
       "      <th>AA-14</th>\n",
       "      <td>0.696000</td>\n",
       "      <td>1.392386</td>\n",
       "      <td>0.696386</td>\n",
       "      <td>1.160470</td>\n",
       "      <td>0.116413</td>\n",
       "      <td>322.610787</td>\n",
       "      <td>0.667013</td>\n",
       "      <td>1.392386</td>\n",
       "      <td>0.725372</td>\n",
       "      <td>1.158858</td>\n",
       "      <td>...</td>\n",
       "      <td>-571.203099</td>\n",
       "      <td>-574.029480</td>\n",
       "      <td>501.253113</td>\n",
       "      <td>1075.282593</td>\n",
       "      <td>-1.556956</td>\n",
       "      <td>170.969213</td>\n",
       "      <td>-435.947672</td>\n",
       "      <td>nonwetland</td>\n",
       "      <td>0</td>\n",
       "      <td>nonwetland</td>\n",
       "    </tr>\n",
       "  </tbody>\n",
       "</table>\n",
       "<p>5 rows × 63 columns</p>\n",
       "</div>"
      ],
      "text/plain": [
       "         qu_dem_MIN  qu_dem_MAX  qu_dem_RANGE  qu_dem_MEAN  qu_dem_STD  \\\n",
       "GRID_ID                                                                  \n",
       "AA-10      0.691847    1.731059      1.039212     1.117221    0.202755   \n",
       "AA-11      0.641888    1.487661      0.845773     1.059745    0.147762   \n",
       "AA-12      0.770032    1.507396      0.737363     1.176038    0.160304   \n",
       "AA-13      0.761148    1.413489      0.652341     1.131694    0.115760   \n",
       "AA-14      0.696000    1.392386      0.696386     1.160470    0.116413   \n",
       "\n",
       "         qu_dem_SUM  qu_dsm_MIN  qu_dsm_MAX  qu_dsm_RANGE  qu_dsm_MEAN  ...  \\\n",
       "GRID_ID                                                                 ...   \n",
       "AA-10    313.939159    0.731374    6.256660      5.525286     2.557360  ...   \n",
       "AA-11    295.668776    0.661373    6.679267      6.017894     2.126747  ...   \n",
       "AA-12    329.290651    0.770032    5.681332      4.911300     1.700724  ...   \n",
       "AA-13    316.874198    0.761148    1.462370      0.701221     1.130406  ...   \n",
       "AA-14    322.610787    0.667013    1.392386      0.725372     1.158858  ...   \n",
       "\n",
       "         qu_curpl_SUM  qu_curpr_MIN  qu_curpr_MAX  qu_curpr_RANGE  \\\n",
       "GRID_ID                                                             \n",
       "AA-10     1688.477507   -561.943237    585.859314     1147.802551   \n",
       "AA-11    -1129.404510   -841.298767    679.957519     1521.256287   \n",
       "AA-12     -994.710507   -614.981445    614.381775     1229.363220   \n",
       "AA-13    -2264.176594   -577.830017    633.895386     1211.725403   \n",
       "AA-14     -571.203099   -574.029480    501.253113     1075.282593   \n",
       "\n",
       "         qu_curpr_MEAN  qu_curpr_STD  qu_curpr_SUM  wetland_type  \\\n",
       "GRID_ID                                                            \n",
       "AA-10        -6.984654    173.043352  -1941.733846    nonwetland   \n",
       "AA-11         0.069758    168.483844     19.392675    nonwetland   \n",
       "AA-12        -9.649778    201.707961  -2692.288038    nonwetland   \n",
       "AA-13        -1.244892    180.105412   -347.324849    nonwetland   \n",
       "AA-14        -1.556956    170.969213   -435.947672    nonwetland   \n",
       "\n",
       "         FID_RiverRd_AOI     wetland  \n",
       "GRID_ID                               \n",
       "AA-10                  0  nonwetland  \n",
       "AA-11                  0  nonwetland  \n",
       "AA-12                  0  nonwetland  \n",
       "AA-13                  0  nonwetland  \n",
       "AA-14                  0  nonwetland  \n",
       "\n",
       "[5 rows x 63 columns]"
      ]
     },
     "execution_count": 2,
     "metadata": {},
     "output_type": "execute_result"
    }
   ],
   "source": [
    "dfes = pd.read_csv('RiverRoad_Quan_RF.csv', index_col=0, parse_dates=True)\n",
    "dfes.head()"
   ]
  },
  {
   "cell_type": "code",
   "execution_count": 30,
   "id": "ffdc71a4",
   "metadata": {},
   "outputs": [],
   "source": [
    "formula = 'wetland ~ qu_dem_MIN+qu_smdem_MAX+qu_smdem_SUM' #Put variables to the right of the tilde, and see the result at the bottom cell"
   ]
  },
  {
   "cell_type": "code",
   "execution_count": 31,
   "id": "80dc67de",
   "metadata": {},
   "outputs": [],
   "source": [
    "train, test = train_test_split(dfes, test_size=.33, random_state=42)"
   ]
  },
  {
   "cell_type": "code",
   "execution_count": 32,
   "id": "78d8ef35",
   "metadata": {
    "scrolled": false
   },
   "outputs": [
    {
     "name": "stdout",
     "output_type": "stream",
     "text": [
      "                              Generalized Linear Model Regression Results                              \n",
      "=======================================================================================================\n",
      "Dep. Variable:     ['wetland[nonwetland]', 'wetland[wetland]']   No. Observations:                 5769\n",
      "Model:                                                     GLM   Df Residuals:                     5765\n",
      "Model Family:                                         Binomial   Df Model:                            3\n",
      "Link Function:                                           logit   Scale:                          1.0000\n",
      "Method:                                                   IRLS   Log-Likelihood:                -2439.0\n",
      "Date:                                         Tue, 13 Jul 2021   Deviance:                       4878.0\n",
      "Time:                                                 13:51:35   Pearson chi2:                 8.49e+03\n",
      "No. Iterations:                                              7                                         \n",
      "Covariance Type:                                     nonrobust                                         \n",
      "================================================================================\n",
      "                   coef    std err          z      P>|z|      [0.025      0.975]\n",
      "--------------------------------------------------------------------------------\n",
      "Intercept       -4.4291      0.163    -27.149      0.000      -4.749      -4.109\n",
      "qu_dem_MIN       6.0684      0.285     21.283      0.000       5.510       6.627\n",
      "qu_smdem_MAX     6.0040      0.407     14.744      0.000       5.206       6.802\n",
      "qu_smdem_SUM    -0.0314      0.002    -14.503      0.000      -0.036      -0.027\n",
      "================================================================================\n"
     ]
    },
    {
     "data": {
      "text/plain": [
       "1.012418477089304"
      ]
     },
     "execution_count": 32,
     "metadata": {},
     "output_type": "execute_result"
    }
   ],
   "source": [
    "model_log = smf.glm(formula = formula, data=train, family=sm.families.Binomial())\n",
    "result = model_log.fit()\n",
    "print(result.summary())\n",
    "np.mean(dfes['qu_dem_MIN'])"
   ]
  },
  {
   "cell_type": "code",
   "execution_count": 33,
   "id": "a45da996",
   "metadata": {},
   "outputs": [
    {
     "name": "stdout",
     "output_type": "stream",
     "text": [
      "Coefficeients\n",
      "Intercept      -4.429136\n",
      "qu_dem_MIN      6.068414\n",
      "qu_smdem_MAX    6.004028\n",
      "qu_smdem_SUM   -0.031401\n",
      "dtype: float64\n",
      "\n",
      "p-Values\n",
      "Intercept       2.571371e-162\n",
      "qu_dem_MIN      1.648280e-100\n",
      "qu_smdem_MAX     3.340180e-49\n",
      "qu_smdem_SUM     1.151441e-47\n",
      "dtype: float64\n",
      "\n",
      "Dependent variables\n",
      "['wetland[nonwetland]', 'wetland[wetland]']\n"
     ]
    }
   ],
   "source": [
    "print(\"Coefficeients\")\n",
    "print(result.params)\n",
    "print()\n",
    "print(\"p-Values\")\n",
    "print(result.pvalues)\n",
    "print()\n",
    "print(\"Dependent variables\")\n",
    "print(result.model.endog_names)"
   ]
  },
  {
   "cell_type": "code",
   "execution_count": 34,
   "id": "f7ae9381",
   "metadata": {},
   "outputs": [
    {
     "name": "stdout",
     "output_type": "stream",
     "text": [
      "GRID_ID\n",
      "AT-27    0.159982\n",
      "U-10     0.874747\n",
      "BD-45    0.054808\n",
      "F-44     0.095923\n",
      "C-83     0.046494\n",
      "CL-28    0.125192\n",
      "AA-90    0.262448\n",
      "G-62     0.046053\n",
      "AC-55    0.996192\n",
      "dtype: float64\n"
     ]
    }
   ],
   "source": [
    "predictions = result.predict(test)\n",
    "print(predictions[1:10])"
   ]
  },
  {
   "cell_type": "code",
   "execution_count": 35,
   "id": "dacc0038",
   "metadata": {},
   "outputs": [
    {
     "name": "stdout",
     "output_type": "stream",
     "text": [
      "['wetland', 'nonwetland', 'wetland', 'wetland', 'wetland', 'wetland', 'wetland', 'wetland', 'nonwetland']\n"
     ]
    }
   ],
   "source": [
    "predictions_nominal = [ \"wetland\" if x < 0.5 else \"nonwetland\" for x in predictions]\n",
    "print(predictions_nominal[1:10])"
   ]
  },
  {
   "cell_type": "code",
   "execution_count": 36,
   "id": "beb57d9c",
   "metadata": {},
   "outputs": [
    {
     "name": "stdout",
     "output_type": "stream",
     "text": [
      "[[ 654  402]\n",
      " [  50 1736]]\n"
     ]
    }
   ],
   "source": [
    "from sklearn.metrics import confusion_matrix, classification_report\n",
    "print(confusion_matrix(test[\"wetland\"], \n",
    "                       predictions_nominal))"
   ]
  },
  {
   "cell_type": "code",
   "execution_count": 37,
   "id": "9edb12a8",
   "metadata": {},
   "outputs": [
    {
     "name": "stdout",
     "output_type": "stream",
     "text": [
      "              precision    recall  f1-score   support\n",
      "\n",
      "  nonwetland      0.929     0.619     0.743      1056\n",
      "     wetland      0.812     0.972     0.885      1786\n",
      "\n",
      "    accuracy                          0.841      2842\n",
      "   macro avg      0.870     0.796     0.814      2842\n",
      "weighted avg      0.855     0.841     0.832      2842\n",
      "\n"
     ]
    }
   ],
   "source": [
    "print(classification_report(test[\"wetland\"], \n",
    "                            predictions_nominal, \n",
    "                            digits = 3))"
   ]
  },
  {
   "cell_type": "code",
   "execution_count": 38,
   "id": "ef58c25c",
   "metadata": {},
   "outputs": [
    {
     "name": "stdout",
     "output_type": "stream",
     "text": [
      "Accuracy Score: 0.8409570724841661\n"
     ]
    }
   ],
   "source": [
    "print(\"Accuracy Score: {}\".format(accuracy_score(y_pred=predictions_nominal,y_true=test['wetland'])))"
   ]
  },
  {
   "cell_type": "code",
   "execution_count": null,
   "id": "8046aae8",
   "metadata": {},
   "outputs": [],
   "source": []
  }
 ],
 "metadata": {
  "kernelspec": {
   "display_name": "Python 3",
   "language": "python",
   "name": "python3"
  },
  "language_info": {
   "codemirror_mode": {
    "name": "ipython",
    "version": 3
   },
   "file_extension": ".py",
   "mimetype": "text/x-python",
   "name": "python",
   "nbconvert_exporter": "python",
   "pygments_lexer": "ipython3",
   "version": "3.8.8"
  }
 },
 "nbformat": 4,
 "nbformat_minor": 5
}
